{
 "cells": [
  {
   "cell_type": "markdown",
   "metadata": {},
   "source": [
    "<img style=\"float: right; margin: 0px 0px 15px 15px;\" src=\"https://centinela66.files.wordpress.com/2013/01/dibujo.jpg\" height=\"100px\" />\n",
    "<img style=\"float: right; margin: 0px 0px 15px 15px;\" src=\"https://upload.wikimedia.org/wikipedia/commons/thumb/d/db/Logo_ITESO_normal.jpg/240px-Logo_ITESO_normal.jpg\" width=\"70px\" height=\"15px\" />\n",
    "\n",
    "\n",
    "## <font color= darkblue> Simulación de procesos financieros.</font>\n",
    "\n",
    "### <font color= shinegreen>  TAREA 1.</font>\n",
    "\n",
    "\n",
    " \n",
    "- <Strong> Calderon Erape Jazmín. </Strong> <font color=\"#8A0829\"> erapejazmin@gmail.com </font>\n"
   ]
  },
  {
   "cell_type": "markdown",
   "metadata": {},
   "source": [
    "___\n",
    "#  <Strong> <font color = skyblue> I. Mis expectativas del curso </Strong>"
   ]
  },
  {
   "cell_type": "markdown",
   "metadata": {},
   "source": [
    "***1. Aplicar los conocimientos adquiridos en la materia de simulación matematica de la carrera***\n",
    "\n",
    "***2. Aprender muchas cosas y que les de un sentido util, es decir que me ayuden a desarrollarme mejor en el ambiente de programación***\n",
    "\n",
    "***3. Que se dinamica la clase, hacer actividades que vayan reafirmando lo que vemos en la clase***\n",
    "\n",
    "***4. Lograr tener mas confianza en aspecctos de programación***\n",
    "\n",
    "***5. Conocer nuevos programas***\n",
    "\n",
    "\n"
   ]
  },
  {
   "cell_type": "markdown",
   "metadata": {},
   "source": [
    "___\n",
    "# <Strong> <font color = skyblue> II. Algunas ecuaciones </Strong>"
   ]
  },
  {
   "cell_type": "markdown",
   "metadata": {},
   "source": [
    "<font color = gold>\\begin{equation}\n",
    "\\frac{dy}{dt} = C · y · [1- \\frac{y}{N}] \n",
    "\\end{equation}</font>"
   ]
  },
  {
   "cell_type": "markdown",
   "metadata": {},
   "source": [
    "<font color = purple>\\begin{equation}\n",
    "m\\ddot{x} + k x + B \\dot{x} = 0\n",
    "\\end{equation}</font>\n"
   ]
  },
  {
   "cell_type": "code",
   "execution_count": 23,
   "metadata": {
    "collapsed": true
   },
   "outputs": [],
   "source": [
    "from sympy import *"
   ]
  },
  {
   "cell_type": "code",
   "execution_count": 24,
   "metadata": {
    "collapsed": true
   },
   "outputs": [],
   "source": [
    "init_printing()"
   ]
  },
  {
   "cell_type": "code",
   "execution_count": 25,
   "metadata": {},
   "outputs": [
    {
     "data": {
      "image/png": "[encoded data removed]",
      "text/latex": [
       "$$x$$"
      ],
      "text/plain": [
       "x"
      ]
     },
     "execution_count": 25,
     "metadata": {},
     "output_type": "execute_result"
    }
   ],
   "source": [
    "x = Symbol (\"x\"); x"
   ]
  },
  {
   "cell_type": "code",
   "execution_count": 26,
   "metadata": {},
   "outputs": [
    {
     "data": {
      "image/png": "[encoded data removed]",
      "text/latex": [
       "$$\\int \\left(\\log{\\left (x \\right )} + \\sin{\\left (x^{2} \\right )}\\right)\\, dx$$"
      ],
      "text/plain": [
       "⌠                      \n",
       "⎮ ⎛            ⎛ 2⎞⎞   \n",
       "⎮ ⎝log(x) + sin⎝x ⎠⎠ dx\n",
       "⌡                      "
      ]
     },
     "execution_count": 26,
     "metadata": {},
     "output_type": "execute_result"
    }
   ],
   "source": [
    "integral = Integral (sin(x**2)+ log(x)); integral"
   ]
  },
  {
   "cell_type": "code",
   "execution_count": 27,
   "metadata": {},
   "outputs": [
    {
     "data": {
      "image/png": "[encoded data removed]",
      "text/latex": [
       "$$\\int \\left(2.0 x^{9} + \\log{\\left (\\frac{x^{2}}{\\cos{\\left (x \\right )}} \\right )}\\right)\\, dx$$"
      ],
      "text/plain": [
       "⌠                          \n",
       "⎮ ⎛            ⎛   2  ⎞⎞   \n",
       "⎮ ⎜     9      ⎜  x   ⎟⎟   \n",
       "⎮ ⎜2.0⋅x  + log⎜──────⎟⎟ dx\n",
       "⎮ ⎝            ⎝cos(x)⎠⎠   \n",
       "⌡                          "
      ]
     },
     "execution_count": 27,
     "metadata": {},
     "output_type": "execute_result"
    }
   ],
   "source": [
    "integral = Integral (log(x**2/cos(x))+ x**9 * (4)**(0.5)); integral"
   ]
  },
  {
   "cell_type": "code",
   "execution_count": 28,
   "metadata": {},
   "outputs": [
    {
     "data": {
      "image/png": "[encoded data removed]",
      "text/latex": [
       "$$\\int \\frac{x^{5}}{\\tan{\\left (x \\right )}}\\, dx$$"
      ],
      "text/plain": [
       "⌠          \n",
       "⎮    5     \n",
       "⎮   x      \n",
       "⎮ ────── dx\n",
       "⎮ tan(x)   \n",
       "⌡          "
      ]
     },
     "execution_count": 28,
     "metadata": {},
     "output_type": "execute_result"
    }
   ],
   "source": [
    "integral = Integral ((x**5)/tan(x)); integral"
   ]
  },
  {
   "cell_type": "code",
   "execution_count": 29,
   "metadata": {},
   "outputs": [
    {
     "data": {
      "image/png": "[encoded data removed]",
      "text/latex": [
       "$$\\frac{d}{d x}\\left(x^{2} + \\frac{\\cos{\\left (x \\right )}}{\\sin{\\left (x \\right )}}\\right)$$"
      ],
      "text/plain": [
       "d ⎛ 2   cos(x)⎞\n",
       "──⎜x  + ──────⎟\n",
       "dx⎝     sin(x)⎠"
      ]
     },
     "execution_count": 29,
     "metadata": {},
     "output_type": "execute_result"
    }
   ],
   "source": [
    "derivada = Derivative(cos(x)/(sin(x)) + x**2); derivada"
   ]
  },
  {
   "cell_type": "code",
   "execution_count": 30,
   "metadata": {},
   "outputs": [
    {
     "data": {
      "image/png": "[encoded data removed]",
      "text/latex": [
       "$$\\frac{d}{d x}\\left(e^{x} + 2.0 \\cos{\\left (x \\right )}\\right)$$"
      ],
      "text/plain": [
       "d ⎛ x             ⎞\n",
       "──⎝ℯ  + 2.0⋅cos(x)⎠\n",
       "dx                 "
      ]
     },
     "execution_count": 30,
     "metadata": {},
     "output_type": "execute_result"
    }
   ],
   "source": [
    "derivada = Derivative(4/2 * cos(x) + exp(x)); derivada"
   ]
  },
  {
   "cell_type": "code",
   "execution_count": 31,
   "metadata": {
    "collapsed": true
   },
   "outputs": [],
   "source": [
    "a, b, c = symbols(\"a b c\")"
   ]
  },
  {
   "cell_type": "code",
   "execution_count": 32,
   "metadata": {},
   "outputs": [
    {
     "data": {
      "image/png": "[encoded data removed]",
      "text/latex": [
       "$$a x^{2} + b x + c = 0$$"
      ],
      "text/plain": [
       "   2              \n",
       "a⋅x  + b⋅x + c = 0"
      ]
     },
     "execution_count": 32,
     "metadata": {},
     "output_type": "execute_result"
    }
   ],
   "source": [
    "eq_cuad = Eq(a*x**2 + b*x + c, 0); eq_cuad"
   ]
  },
  {
   "cell_type": "markdown",
   "metadata": {},
   "source": [
    "___\n",
    "# <Strong> <font color = skyblue> III. Tablas </Strong>"
   ]
  },
  {
   "cell_type": "markdown",
   "metadata": {},
   "source": [
    "|  Alumnos    | Edades |  semestre |\n",
    "|-------------|--------|-----------|\n",
    "| Carmen      |24      |5          |\n",
    "| Claudia     |23      |6          |\n",
    "| Heriberto   |25      |5          |\n",
    "| Mauricio    |20      |6          |\n",
    "| Irma        |20      |6          |\n",
    "| Georgina    |25      |6          |\n",
    "| Catalin     |24      |6          |\n",
    "| Jazmin      |23      |7          |\n",
    "| Antonio     |25      |6          |\n",
    "| Teresa      |20      |6          |\n",
    "| Daniela     |18      |5          |\n",
    "| Mildret     |19      |8          |"
   ]
  },
  {
   "cell_type": "code",
   "execution_count": 1,
   "metadata": {},
   "outputs": [
    {
     "name": "stdout",
     "output_type": "stream",
     "text": [
      "Este es el nùmero: 0\n",
      "Este es el nùmero: 1\n",
      "Este es el nùmero: 2\n",
      "Este es el nùmero: 3\n",
      "Este es el nùmero: 4\n",
      "Este es el nùmero: 5\n",
      "Este es el nùmero: 6\n",
      "Este es el nùmero: 7\n",
      "Este es el nùmero: 8\n"
     ]
    }
   ],
   "source": [
    "for i in range(0,9):\n",
    "    print(\"Este es el nùmero:\",i)"
   ]
  },
  {
   "cell_type": "code",
   "execution_count": 4,
   "metadata": {},
   "outputs": [
    {
     "name": "stdout",
     "output_type": "stream",
     "text": [
      "Este es el nùmero: 0\n",
      "Este es el nùmero: 2\n",
      "Este es el nùmero: 4\n",
      "Este es el nùmero: 6\n",
      "Este es el nùmero: 8\n",
      "Este es el nùmero: 10\n",
      "Este es el nùmero: 12\n",
      "Este es el nùmero: 14\n",
      "Este es el nùmero: 16\n",
      "Este es el nùmero: 18\n"
     ]
    }
   ],
   "source": [
    "for i in range(0,20):\n",
    "    if i%2==0:\n",
    "        print(\"Este es el nùmero:\",i)"
   ]
  },
  {
   "cell_type": "code",
   "execution_count": null,
   "metadata": {},
   "outputs": [],
   "source": []
  },
  {
   "cell_type": "code",
   "execution_count": null,
   "metadata": {
    "collapsed": true
   },
   "outputs": [],
   "source": []
  }
 ],
 "metadata": {
  "kernelspec": {
   "display_name": "Python 3",
   "language": "python",
   "name": "python3"
  },
  "language_info": {
   "codemirror_mode": {
    "name": "ipython",
    "version": 3
   },
   "file_extension": ".py",
   "mimetype": "text/x-python",
   "name": "python",
   "nbconvert_exporter": "python",
   "pygments_lexer": "ipython3",
   "version": "3.6.3"
  }
 },
 "nbformat": 4,
 "nbformat_minor": 2
}
